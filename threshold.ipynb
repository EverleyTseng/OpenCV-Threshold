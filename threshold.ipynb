{
 "cells": [
  {
   "cell_type": "code",
   "execution_count": 2,
   "metadata": {},
   "outputs": [],
   "source": [
    "import cv2\n",
    "import os"
   ]
  },
  {
   "cell_type": "code",
   "execution_count": 3,
   "metadata": {},
   "outputs": [
    {
     "name": "stdout",
     "output_type": "stream",
     "text": [
      "processed isBinary: True\n",
      "re-read isBinary: False\n"
     ]
    }
   ],
   "source": [
    "img = cv2.imread(\"test.jpg\", 0)\n",
    "ret, img = cv2.threshold(img,0,255,cv2.THRESH_BINARY)\n",
    "isBinary = True\n",
    "for row in img:\n",
    "    for col in row:\n",
    "        if col!=255 and col!= 0:\n",
    "            isBinary = False\n",
    "cv2.imwrite(\"processed_GRAY.jpg\", img)\n",
    "print(\"processed isBinary:\", isBinary)\n",
    "\n",
    "img = cv2.imread(\"processed_GRAY.jpg\", 0)\n",
    "isBinary = True\n",
    "for row in img:\n",
    "    for col in row:\n",
    "        if col!=255 and col!= 0:\n",
    "            isBinary = False\n",
    "print(\"re-read isBinary:\", isBinary)"
   ]
  },
  {
   "cell_type": "code",
   "execution_count": 4,
   "metadata": {},
   "outputs": [
    {
     "name": "stdout",
     "output_type": "stream",
     "text": [
      "processed isBinary: True\n",
      "re-read isBinary: False\n"
     ]
    }
   ],
   "source": [
    "img = cv2.imread(\"test.jpg\", 0)\n",
    "ret, img = cv2.threshold(img,0,255,cv2.THRESH_BINARY)\n",
    "img = cv2.cvtColor(img,cv2.COLOR_GRAY2BGR)\n",
    "isBinary = True\n",
    "for row in img:\n",
    "    for col in row:\n",
    "        for pix in col:\n",
    "            if pix!=255 and pix!= 0:\n",
    "                isBinary = False\n",
    "cv2.imwrite(\"processed_BGR.jpg\", img)\n",
    "print(\"processed isBinary:\", isBinary)\n",
    "\n",
    "img = cv2.imread(\"processed_BGR.jpg\", 1)\n",
    "isBinary = True\n",
    "for row in img:\n",
    "    for col in row:\n",
    "        for pix in col:\n",
    "            if pix!=255 and pix!= 0:\n",
    "                isBinary = False\n",
    "print(\"re-read isBinary:\", isBinary)"
   ]
  },
  {
   "cell_type": "code",
   "execution_count": null,
   "metadata": {},
   "outputs": [],
   "source": []
  }
 ],
 "metadata": {
  "kernelspec": {
   "display_name": "Python 3",
   "language": "python",
   "name": "python3"
  },
  "language_info": {
   "codemirror_mode": {
    "name": "ipython",
    "version": 3
   },
   "file_extension": ".py",
   "mimetype": "text/x-python",
   "name": "python",
   "nbconvert_exporter": "python",
   "pygments_lexer": "ipython3",
   "version": "3.7.2"
  }
 },
 "nbformat": 4,
 "nbformat_minor": 2
}
